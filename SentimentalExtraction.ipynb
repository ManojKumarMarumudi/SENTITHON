{
  "nbformat": 4,
  "nbformat_minor": 0,
  "metadata": {
    "colab": {
      "provenance": [],
      "authorship_tag": "ABX9TyPnevBVbLbh3iZ4mRcseg7s"
    },
    "kernelspec": {
      "name": "python3",
      "display_name": "Python 3"
    },
    "language_info": {
      "name": "python"
    }
  },
  "cells": [
    {
      "cell_type": "code",
      "execution_count": 4,
      "metadata": {
        "colab": {
          "base_uri": "https://localhost:8080/"
        },
        "id": "v2NcZEv4qYTv",
        "outputId": "a046b373-3f4d-4a5a-b7a4-8a2e55c27e02"
      },
      "outputs": [
        {
          "output_type": "stream",
          "name": "stdout",
          "text": [
            "Looking in indexes: https://pypi.org/simple, https://us-python.pkg.dev/colab-wheels/public/simple/\n",
            "Requirement already satisfied: snscrape in /usr/local/lib/python3.8/dist-packages (0.4.3.20220106)\n",
            "Requirement already satisfied: beautifulsoup4 in /usr/local/lib/python3.8/dist-packages (from snscrape) (4.6.3)\n",
            "Requirement already satisfied: lxml in /usr/local/lib/python3.8/dist-packages (from snscrape) (4.9.1)\n",
            "Requirement already satisfied: filelock in /usr/local/lib/python3.8/dist-packages (from snscrape) (3.8.0)\n",
            "Requirement already satisfied: requests[socks] in /usr/local/lib/python3.8/dist-packages (from snscrape) (2.23.0)\n",
            "Requirement already satisfied: pytz in /usr/local/lib/python3.8/dist-packages (from snscrape) (2022.6)\n",
            "Requirement already satisfied: certifi>=2017.4.17 in /usr/local/lib/python3.8/dist-packages (from requests[socks]->snscrape) (2022.9.24)\n",
            "Requirement already satisfied: urllib3!=1.25.0,!=1.25.1,<1.26,>=1.21.1 in /usr/local/lib/python3.8/dist-packages (from requests[socks]->snscrape) (1.24.3)\n",
            "Requirement already satisfied: chardet<4,>=3.0.2 in /usr/local/lib/python3.8/dist-packages (from requests[socks]->snscrape) (3.0.4)\n",
            "Requirement already satisfied: idna<3,>=2.5 in /usr/local/lib/python3.8/dist-packages (from requests[socks]->snscrape) (2.10)\n",
            "Requirement already satisfied: PySocks!=1.5.7,>=1.5.6 in /usr/local/lib/python3.8/dist-packages (from requests[socks]->snscrape) (1.7.1)\n"
          ]
        }
      ],
      "source": [
        "!pip install snscrape   \n",
        "import snscrape.modules.twitter as sntwitter\n",
        "import pandas as pd\n"
      ]
    },
    {
      "cell_type": "code",
      "source": [
        "tweets = []\n",
        "limits = 1000\n",
        "query = \"#ukrainewar\"\n",
        "for tweet in sntwitter.TwitterSearchScraper(query).get_items():\n",
        "    if(len(tweets)==limits):\n",
        "        break\n",
        "    else:\n",
        "        tweets.append([tweet.date,tweet.user.username,tweet.content])\n",
        "df = pd.DataFrame(tweets,columns=['Date','User','Tweet'])\n",
        "#print(df)\n"
      ],
      "metadata": {
        "id": "5dfDN2x-rDZE"
      },
      "execution_count": 5,
      "outputs": []
    },
    {
      "cell_type": "code",
      "source": [
        "df.to_csv('file2.csv')\n",
        "print(df)"
      ],
      "metadata": {
        "colab": {
          "base_uri": "https://localhost:8080/"
        },
        "id": "e2H_dA6orF6Z",
        "outputId": "8ed61610-54ee-4db6-bf79-cf62a5d1c1a3"
      },
      "execution_count": 6,
      "outputs": [
        {
          "output_type": "stream",
          "name": "stdout",
          "text": [
            "                         Date             User  \\\n",
            "0   2022-12-10 20:13:13+00:00       Jim_Oberst   \n",
            "1   2022-12-10 20:12:36+00:00  SurvivalOutside   \n",
            "2   2022-12-10 20:10:59+00:00      KatieCScott   \n",
            "3   2022-12-10 20:10:15+00:00  UA_patriot_news   \n",
            "4   2022-12-10 20:09:27+00:00    DESI_MUCH_ADO   \n",
            "..                        ...              ...   \n",
            "995 2022-12-10 05:30:27+00:00  StevensMichaelD   \n",
            "996 2022-12-10 05:28:21+00:00  ArchangelBranch   \n",
            "997 2022-12-10 05:27:04+00:00  cryptobarbossa_   \n",
            "998 2022-12-10 05:21:50+00:00      M_navid1401   \n",
            "999 2022-12-10 05:18:31+00:00   OlenaStarynets   \n",
            "\n",
            "                                                 Tweet  \n",
            "0    @KyivIndependent having lots of friends (this ...  \n",
            "1    On point 🎯 #BadLeadership #TaxDollars #Ukraine...  \n",
            "2    “It was painful for us to hear certain things ...  \n",
            "3    #Bakhmut🇺🇦\\n\\nDon't forget to follow me and re...  \n",
            "4    Now #Zelenskyy is doing a #Nero for #Ukraine. ...  \n",
            "..                                                 ...  \n",
            "995  @ZelenskyyUa @POTUS I’m so glad to see 🇺🇦 gett...  \n",
            "996  Well, it was a good run. It's nuclear hellfire...  \n",
            "997  Ukrainian troops scavenging for russian trophi...  \n",
            "998  @UN If you don't do anything for the Iranian p...  \n",
            "999  🇺🇦Glory to Ukraine!🌻GM, soldiers!❤️THX😺GBU\\n#U...  \n",
            "\n",
            "[1000 rows x 3 columns]\n"
          ]
        }
      ]
    },
    {
      "cell_type": "code",
      "source": [
        "df.head()"
      ],
      "metadata": {
        "colab": {
          "base_uri": "https://localhost:8080/",
          "height": 206
        },
        "id": "f7pxvVUSq99y",
        "outputId": "3b25019d-1888-4fa9-afbd-0c0e67102293"
      },
      "execution_count": 7,
      "outputs": [
        {
          "output_type": "execute_result",
          "data": {
            "text/plain": [
              "                       Date             User  \\\n",
              "0 2022-12-10 20:13:13+00:00       Jim_Oberst   \n",
              "1 2022-12-10 20:12:36+00:00  SurvivalOutside   \n",
              "2 2022-12-10 20:10:59+00:00      KatieCScott   \n",
              "3 2022-12-10 20:10:15+00:00  UA_patriot_news   \n",
              "4 2022-12-10 20:09:27+00:00    DESI_MUCH_ADO   \n",
              "\n",
              "                                               Tweet  \n",
              "0  @KyivIndependent having lots of friends (this ...  \n",
              "1  On point 🎯 #BadLeadership #TaxDollars #Ukraine...  \n",
              "2  “It was painful for us to hear certain things ...  \n",
              "3  #Bakhmut🇺🇦\\n\\nDon't forget to follow me and re...  \n",
              "4  Now #Zelenskyy is doing a #Nero for #Ukraine. ...  "
            ],
            "text/html": [
              "\n",
              "  <div id=\"df-a2f11930-1054-44a0-9ddc-aa8371bd461a\">\n",
              "    <div class=\"colab-df-container\">\n",
              "      <div>\n",
              "<style scoped>\n",
              "    .dataframe tbody tr th:only-of-type {\n",
              "        vertical-align: middle;\n",
              "    }\n",
              "\n",
              "    .dataframe tbody tr th {\n",
              "        vertical-align: top;\n",
              "    }\n",
              "\n",
              "    .dataframe thead th {\n",
              "        text-align: right;\n",
              "    }\n",
              "</style>\n",
              "<table border=\"1\" class=\"dataframe\">\n",
              "  <thead>\n",
              "    <tr style=\"text-align: right;\">\n",
              "      <th></th>\n",
              "      <th>Date</th>\n",
              "      <th>User</th>\n",
              "      <th>Tweet</th>\n",
              "    </tr>\n",
              "  </thead>\n",
              "  <tbody>\n",
              "    <tr>\n",
              "      <th>0</th>\n",
              "      <td>2022-12-10 20:13:13+00:00</td>\n",
              "      <td>Jim_Oberst</td>\n",
              "      <td>@KyivIndependent having lots of friends (this ...</td>\n",
              "    </tr>\n",
              "    <tr>\n",
              "      <th>1</th>\n",
              "      <td>2022-12-10 20:12:36+00:00</td>\n",
              "      <td>SurvivalOutside</td>\n",
              "      <td>On point 🎯 #BadLeadership #TaxDollars #Ukraine...</td>\n",
              "    </tr>\n",
              "    <tr>\n",
              "      <th>2</th>\n",
              "      <td>2022-12-10 20:10:59+00:00</td>\n",
              "      <td>KatieCScott</td>\n",
              "      <td>“It was painful for us to hear certain things ...</td>\n",
              "    </tr>\n",
              "    <tr>\n",
              "      <th>3</th>\n",
              "      <td>2022-12-10 20:10:15+00:00</td>\n",
              "      <td>UA_patriot_news</td>\n",
              "      <td>#Bakhmut🇺🇦\\n\\nDon't forget to follow me and re...</td>\n",
              "    </tr>\n",
              "    <tr>\n",
              "      <th>4</th>\n",
              "      <td>2022-12-10 20:09:27+00:00</td>\n",
              "      <td>DESI_MUCH_ADO</td>\n",
              "      <td>Now #Zelenskyy is doing a #Nero for #Ukraine. ...</td>\n",
              "    </tr>\n",
              "  </tbody>\n",
              "</table>\n",
              "</div>\n",
              "      <button class=\"colab-df-convert\" onclick=\"convertToInteractive('df-a2f11930-1054-44a0-9ddc-aa8371bd461a')\"\n",
              "              title=\"Convert this dataframe to an interactive table.\"\n",
              "              style=\"display:none;\">\n",
              "        \n",
              "  <svg xmlns=\"http://www.w3.org/2000/svg\" height=\"24px\"viewBox=\"0 0 24 24\"\n",
              "       width=\"24px\">\n",
              "    <path d=\"M0 0h24v24H0V0z\" fill=\"none\"/>\n",
              "    <path d=\"M18.56 5.44l.94 2.06.94-2.06 2.06-.94-2.06-.94-.94-2.06-.94 2.06-2.06.94zm-11 1L8.5 8.5l.94-2.06 2.06-.94-2.06-.94L8.5 2.5l-.94 2.06-2.06.94zm10 10l.94 2.06.94-2.06 2.06-.94-2.06-.94-.94-2.06-.94 2.06-2.06.94z\"/><path d=\"M17.41 7.96l-1.37-1.37c-.4-.4-.92-.59-1.43-.59-.52 0-1.04.2-1.43.59L10.3 9.45l-7.72 7.72c-.78.78-.78 2.05 0 2.83L4 21.41c.39.39.9.59 1.41.59.51 0 1.02-.2 1.41-.59l7.78-7.78 2.81-2.81c.8-.78.8-2.07 0-2.86zM5.41 20L4 18.59l7.72-7.72 1.47 1.35L5.41 20z\"/>\n",
              "  </svg>\n",
              "      </button>\n",
              "      \n",
              "  <style>\n",
              "    .colab-df-container {\n",
              "      display:flex;\n",
              "      flex-wrap:wrap;\n",
              "      gap: 12px;\n",
              "    }\n",
              "\n",
              "    .colab-df-convert {\n",
              "      background-color: #E8F0FE;\n",
              "      border: none;\n",
              "      border-radius: 50%;\n",
              "      cursor: pointer;\n",
              "      display: none;\n",
              "      fill: #1967D2;\n",
              "      height: 32px;\n",
              "      padding: 0 0 0 0;\n",
              "      width: 32px;\n",
              "    }\n",
              "\n",
              "    .colab-df-convert:hover {\n",
              "      background-color: #E2EBFA;\n",
              "      box-shadow: 0px 1px 2px rgba(60, 64, 67, 0.3), 0px 1px 3px 1px rgba(60, 64, 67, 0.15);\n",
              "      fill: #174EA6;\n",
              "    }\n",
              "\n",
              "    [theme=dark] .colab-df-convert {\n",
              "      background-color: #3B4455;\n",
              "      fill: #D2E3FC;\n",
              "    }\n",
              "\n",
              "    [theme=dark] .colab-df-convert:hover {\n",
              "      background-color: #434B5C;\n",
              "      box-shadow: 0px 1px 3px 1px rgba(0, 0, 0, 0.15);\n",
              "      filter: drop-shadow(0px 1px 2px rgba(0, 0, 0, 0.3));\n",
              "      fill: #FFFFFF;\n",
              "    }\n",
              "  </style>\n",
              "\n",
              "      <script>\n",
              "        const buttonEl =\n",
              "          document.querySelector('#df-a2f11930-1054-44a0-9ddc-aa8371bd461a button.colab-df-convert');\n",
              "        buttonEl.style.display =\n",
              "          google.colab.kernel.accessAllowed ? 'block' : 'none';\n",
              "\n",
              "        async function convertToInteractive(key) {\n",
              "          const element = document.querySelector('#df-a2f11930-1054-44a0-9ddc-aa8371bd461a');\n",
              "          const dataTable =\n",
              "            await google.colab.kernel.invokeFunction('convertToInteractive',\n",
              "                                                     [key], {});\n",
              "          if (!dataTable) return;\n",
              "\n",
              "          const docLinkHtml = 'Like what you see? Visit the ' +\n",
              "            '<a target=\"_blank\" href=https://colab.research.google.com/notebooks/data_table.ipynb>data table notebook</a>'\n",
              "            + ' to learn more about interactive tables.';\n",
              "          element.innerHTML = '';\n",
              "          dataTable['output_type'] = 'display_data';\n",
              "          await google.colab.output.renderOutput(dataTable, element);\n",
              "          const docLink = document.createElement('div');\n",
              "          docLink.innerHTML = docLinkHtml;\n",
              "          element.appendChild(docLink);\n",
              "        }\n",
              "      </script>\n",
              "    </div>\n",
              "  </div>\n",
              "  "
            ]
          },
          "metadata": {},
          "execution_count": 7
        }
      ]
    }
  ]
}